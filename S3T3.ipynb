{
 "cells": [
  {
   "cell_type": "markdown",
   "metadata": {},
   "source": [
    "# Estructura de control"
   ]
  },
  {
   "cell_type": "markdown",
   "metadata": {},
   "source": [
    "# Nivell 1"
   ]
  },
  {
   "cell_type": "markdown",
   "metadata": {},
   "source": [
    "## Exercici 1"
   ]
  },
  {
   "cell_type": "markdown",
   "metadata": {},
   "source": [
    "L'exercici consisteix a crear un programa que et classifiqui una variable numèrica en funció de l’escala Suspès/Aprovat/Notable/Excel·lent."
   ]
  },
  {
   "cell_type": "code",
   "execution_count": 1,
   "metadata": {},
   "outputs": [
    {
     "name": "stdout",
     "output_type": "stream",
     "text": [
      "Suspès\n",
      "Aprovat\n",
      "Notable\n",
      "Excel·lent\n"
     ]
    }
   ],
   "source": [
    "def category_mark(num_mark):\n",
    "    if num_mark < 5:\n",
    "        return 'Suspès'\n",
    "    elif num_mark < 7:\n",
    "        return 'Aprovat'\n",
    "    elif num_mark < 9:\n",
    "        return 'Notable'\n",
    "    else:\n",
    "        return 'Excel·lent'\n",
    "\n",
    "print(category_mark(4.5))\n",
    "print(category_mark(5))\n",
    "print(category_mark(7.5))\n",
    "print(category_mark(9.5))"
   ]
  },
  {
   "cell_type": "markdown",
   "metadata": {},
   "source": [
    "## Exercici 2"
   ]
  },
  {
   "cell_type": "markdown",
   "metadata": {},
   "source": [
    "Utilitzant el següent tutorial Programiz: [Python Input, Output and Import](https://www.programiz.com/python-programming/input-output-import) crea un programa que et pregunti dos números. T’ha de mostrar un missatge dient si el primer és més gran, el segon és més gran o són iguals."
   ]
  },
  {
   "cell_type": "code",
   "execution_count": 2,
   "metadata": {},
   "outputs": [
    {
     "name": "stdout",
     "output_type": "stream",
     "text": [
      "Diga'm un número 3\n",
      "Diga'm un altre número 2\n",
      "El primer número és més gran\n"
     ]
    }
   ],
   "source": [
    "num1 = input(\"Diga'm un número \")\n",
    "num2 = input(\"Diga'm un altre número \")\n",
    "if num1 > num2:\n",
    "    print('El primer número és més gran')\n",
    "elif num1 < num2:\n",
    "    print('El segon número és més gran')\n",
    "else:\n",
    "    print('Els dos números són iguals')"
   ]
  },
  {
   "cell_type": "markdown",
   "metadata": {},
   "source": [
    "## Exercici 3"
   ]
  },
  {
   "cell_type": "markdown",
   "metadata": {},
   "source": [
    "Crea un programa que et pregunti el teu nom, i et demani un número. Si el número és 0, hauria de mostrar un missatge d’error. En cas contrari, hauria de mostrar el nom repetit tants cops com indiqui el número. Per exemple, “Joan Joan Joan”."
   ]
  },
  {
   "cell_type": "code",
   "execution_count": 3,
   "metadata": {},
   "outputs": [
    {
     "name": "stdout",
     "output_type": "stream",
     "text": [
      "Com et dius? Natàlia\n",
      "Diga'm un número 3\n",
      "NatàliaNatàliaNatàlia\n"
     ]
    }
   ],
   "source": [
    "nom = input(\"Com et dius? \")\n",
    "num = int(input(\"Diga'm un número \"))\n",
    "if num <= 0:\n",
    "    raise Exception('The number must be bigger than 0')\n",
    "else:\n",
    "    print(nom * num)"
   ]
  },
  {
   "cell_type": "markdown",
   "metadata": {},
   "source": [
    "## Exercici 4"
   ]
  },
  {
   "cell_type": "markdown",
   "metadata": {},
   "source": [
    "Crea un programa que donada una llista qualsevol, et digui si es simètrica o no. Si ho és, que et digui quants elements té."
   ]
  },
  {
   "cell_type": "code",
   "execution_count": 4,
   "metadata": {},
   "outputs": [
    {
     "name": "stdout",
     "output_type": "stream",
     "text": [
      "La llista és simètrica i té 5 elements\n"
     ]
    }
   ],
   "source": [
    "def es_simetrica(llista):\n",
    "    simetria = llista == list(reversed(llista))\n",
    "    if simetria:\n",
    "        print('La llista és simètrica i té {} elements'.format(len(llista)))\n",
    "    else:\n",
    "        print('La llista no és simètrica')\n",
    "\n",
    "es_simetrica([1,2,3,2,1])"
   ]
  },
  {
   "cell_type": "markdown",
   "metadata": {},
   "source": [
    "## Exercici 5"
   ]
  },
  {
   "cell_type": "markdown",
   "metadata": {},
   "source": [
    "Crea un programa que donada una llista, et digui quants números coincideixen amb la seva posició. Per exemple [3,4,2,0,2,3,6] el 2 i el 6 coincideixen."
   ]
  },
  {
   "cell_type": "code",
   "execution_count": 5,
   "metadata": {},
   "outputs": [
    {
     "data": {
      "text/plain": [
       "[2, 6]"
      ]
     },
     "execution_count": 5,
     "metadata": {},
     "output_type": "execute_result"
    }
   ],
   "source": [
    "def coincideixen(llista):\n",
    "    equal = [i for i, e in enumerate(llista) if i == e]\n",
    "    return equal\n",
    "\n",
    "coincideixen([3,4,2,0,2,3,6])"
   ]
  },
  {
   "cell_type": "code",
   "execution_count": null,
   "metadata": {},
   "outputs": [],
   "source": []
  }
 ],
 "metadata": {
  "kernelspec": {
   "display_name": "Python 3",
   "language": "python",
   "name": "python3"
  },
  "language_info": {
   "codemirror_mode": {
    "name": "ipython",
    "version": 3
   },
   "file_extension": ".py",
   "mimetype": "text/x-python",
   "name": "python",
   "nbconvert_exporter": "python",
   "pygments_lexer": "ipython3",
   "version": "3.6.5"
  },
  "toc": {
   "base_numbering": 1,
   "nav_menu": {},
   "number_sections": false,
   "sideBar": true,
   "skip_h1_title": false,
   "title_cell": "Table of Contents",
   "title_sidebar": "Contents",
   "toc_cell": false,
   "toc_position": {},
   "toc_section_display": true,
   "toc_window_display": true
  }
 },
 "nbformat": 4,
 "nbformat_minor": 4
}
